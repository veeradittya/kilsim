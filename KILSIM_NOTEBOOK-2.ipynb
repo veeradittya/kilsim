{
  "nbformat": 4,
  "nbformat_minor": 0,
  "metadata": {
    "colab": {
      "name": "KILSIM NOTEBOOK.ipynb",
      "provenance": [],
      "collapsed_sections": [
        "MjM5n33FteFt",
        "kl_GZgx1tj3w"
      ],
      "toc_visible": true
    },
    "kernelspec": {
      "name": "python3",
      "display_name": "Python 3"
    },
    "language_info": {
      "name": "python"
    }
  },
  "cells": [
    {
      "cell_type": "markdown",
      "source": [
        "# Solving for unique target signals in a \"Adjacent\" RAM Arrangement"
      ],
      "metadata": {
        "id": "tfVI6qlEndnU"
      }
    },
    {
      "cell_type": "markdown",
      "source": [
        " Importing the Numpy and Random Libraries"
      ],
      "metadata": {
        "id": "QvUCf1lUpNR4"
      }
    },
    {
      "cell_type": "code",
      "execution_count": null,
      "metadata": {
        "id": "enJa7gPtnSVU"
      },
      "outputs": [],
      "source": [
        "import numpy as np\n",
        "import random as rnd"
      ]
    },
    {
      "cell_type": "markdown",
      "source": [
        "Uniqueness Check for 2D Array \\\\\n",
        "Function - To check whether all row elements of a matrix are unique"
      ],
      "metadata": {
        "id": "DAo5yteNpnit"
      }
    },
    {
      "cell_type": "markdown",
      "source": [
        "The uniqueness check function looks for similarity for each element in each row with another element in the same row and flags when a similarity is found. Hence flag = 1 is returned when a similerity is found else flag = 0 is returned."
      ],
      "metadata": {
        "id": "gWPC9GxKaWWq"
      }
    },
    {
      "cell_type": "code",
      "source": [
        "def checkuniq(A):\n",
        "  flag = 0\n",
        "  for r in range(len(A)):\n",
        "    for i in range(len(A[r])):\n",
        "        for i1 in range(len(A[r])):\n",
        "            if i != i1:\n",
        "                if A[r][i] == A[r][i1] and A[r][i] != 0:\n",
        "                    flag = 1\n",
        "  return flag"
      ],
      "metadata": {
        "id": "CDbgWEQVpfSD"
      },
      "execution_count": null,
      "outputs": []
    },
    {
      "cell_type": "markdown",
      "source": [
        "## KILSIM - 1\n",
        "### This Algorithm removes similarity in a row by adding one to the similar entry encountered later and subsequently adding one to each element of the same column in the Matrix."
      ],
      "metadata": {
        "id": "orfPTt1iqryf"
      }
    },
    {
      "cell_type": "code",
      "source": [
        "#Updated Kilsim Algorithm - Works on 2D (16 x 4) Matrices\n",
        "def kilsim(A):\n",
        "  n = len(A[0])\n",
        "  for r in range(len(A)):\n",
        "    for i in range(n): \n",
        "        for j in range(n-1): \n",
        "            if i != j+1 :\n",
        "                if A[r][i] == A[r][j+1] and A[r][j+1] != 0:\n",
        "                    A[r][j+1] += 1\n",
        "                    for k in range(len(A)):\n",
        "                        if k != r :\n",
        "                            A[k][j+1] += 1\n",
        "                            A[k][j+1] = 0 if A[k][j+1] == 9 else A[k][j+1]\n",
        "                            if A[r][j+1] == 9:\n",
        "                                A[r][j+1] = 0\n",
        "                            \n",
        "  return A"
      ],
      "metadata": {
        "id": "UZB5YwSlqoqN"
      },
      "execution_count": null,
      "outputs": []
    },
    {
      "cell_type": "markdown",
      "source": [
        "### Examples"
      ],
      "metadata": {
        "id": "MjM5n33FteFt"
      }
    },
    {
      "cell_type": "code",
      "source": [
        "A = np.array([[0, 0, 0, 0],\n",
        "              [0, 0, 0, 0],\n",
        "              [0, 0, 0, 0],\n",
        "              [0, 0, 1, 1],\n",
        "              [0, 0, 0, 0],\n",
        "              [0, 0, 0, 0],\n",
        "              [0, 0, 0, 0],\n",
        "              [0, 0, 0, 0],\n",
        "              [0, 0, 0, 0],\n",
        "              [0, 0, 0, 0],\n",
        "              [0, 0, 0, 0],\n",
        "              [0, 0, 0, 0],\n",
        "              [0, 0, 0, 0],\n",
        "              [0, 0, 0, 0],\n",
        "              [0, 0, 0, 0],\n",
        "              [0, 0, 0, 0]])\n",
        "\n",
        "print(kilsim(A))"
      ],
      "metadata": {
        "colab": {
          "base_uri": "https://localhost:8080/"
        },
        "id": "qEjuJyVGsxmW",
        "outputId": "f31a1a27-4fb2-49a4-bddd-21dcaea3deab"
      },
      "execution_count": null,
      "outputs": [
        {
          "output_type": "stream",
          "name": "stdout",
          "text": [
            "[[0 0 0 1]\n",
            " [0 0 0 1]\n",
            " [0 0 0 1]\n",
            " [0 0 1 2]\n",
            " [0 0 0 1]\n",
            " [0 0 0 1]\n",
            " [0 0 0 1]\n",
            " [0 0 0 1]\n",
            " [0 0 0 1]\n",
            " [0 0 0 1]\n",
            " [0 0 0 1]\n",
            " [0 0 0 1]\n",
            " [0 0 0 1]\n",
            " [0 0 0 1]\n",
            " [0 0 0 1]\n",
            " [0 0 0 1]]\n"
          ]
        }
      ]
    },
    {
      "cell_type": "markdown",
      "source": [
        "## KILSIM - 2\n",
        "### This Algorithm also removes similarity in a row by adding one to the similar entry encountered later however subsquently adds one only to the element right above and below itself in the same column of the Matrix."
      ],
      "metadata": {
        "id": "tA9rw-xUryye"
      }
    },
    {
      "cell_type": "code",
      "source": [
        "def kilsim2(A):\n",
        "  n = len(A[0])\n",
        "  for r in range(len(A)):\n",
        "    for i in range(n): \n",
        "        for j in range(n-1): \n",
        "            if i != j+1 :\n",
        "                if A[r][i] == A[r][j+1] and A[r][j+1] != 0:\n",
        "                    A[r][j+1] += 1\n",
        "                    A[r][j+1] = 0 if A[r][j+1] == 9 else A[r][j+1]\n",
        "                    A[r-1][j+1] += 1 if r-1 >= 0 else 0\n",
        "                    A[r-1][j+1] = 0 if A[r-1][j+1] == 9 else A[r-1][j+1]\n",
        "                    if r+1 <= 15:\n",
        "                      A[r+1][j+1] += 1\n",
        "                      A[r+1][j+1] = 0 if A[r+1][j+1] == 9 else A[r+1][j+1]\n",
        "                            \n",
        "  return A"
      ],
      "metadata": {
        "id": "PEQ1gGBPssja"
      },
      "execution_count": null,
      "outputs": []
    },
    {
      "cell_type": "markdown",
      "source": [
        "### Examples"
      ],
      "metadata": {
        "id": "kl_GZgx1tj3w"
      }
    },
    {
      "cell_type": "code",
      "source": [
        "A = np.array([[0, 0, 0, 0],\n",
        "              [0, 0, 0, 0],\n",
        "              [0, 0, 0, 0],\n",
        "              [0, 0, 1, 1],\n",
        "              [0, 0, 0, 0],\n",
        "              [0, 0, 0, 0],\n",
        "              [0, 0, 0, 0],\n",
        "              [0, 1, 2, 0],\n",
        "              [0, 0, 5, 5],\n",
        "              [0, 0, 0, 0],\n",
        "              [0, 1, 1, 0],\n",
        "              [0, 0, 0, 0],\n",
        "              [0, 0, 0, 0],\n",
        "              [0, 0, 0, 0],\n",
        "              [0, 0, 0, 0],\n",
        "              [0, 0, 0, 0]])\n",
        "\n",
        "print(kilsim2(A))"
      ],
      "metadata": {
        "colab": {
          "base_uri": "https://localhost:8080/"
        },
        "id": "N9gTRB0ftLkd",
        "outputId": "6647b311-d0b7-4fbc-902a-c7e7489e9366"
      },
      "execution_count": null,
      "outputs": [
        {
          "output_type": "stream",
          "name": "stdout",
          "text": [
            "[[0 0 0 0]\n",
            " [0 0 0 0]\n",
            " [0 0 0 1]\n",
            " [0 0 1 2]\n",
            " [0 0 0 1]\n",
            " [0 0 0 0]\n",
            " [0 0 0 0]\n",
            " [0 1 2 1]\n",
            " [0 0 5 6]\n",
            " [0 0 1 1]\n",
            " [0 1 2 0]\n",
            " [0 0 1 0]\n",
            " [0 0 0 0]\n",
            " [0 0 0 0]\n",
            " [0 0 0 0]\n",
            " [0 0 0 0]]\n"
          ]
        }
      ]
    },
    {
      "cell_type": "markdown",
      "source": [
        "# Testing Convergence for both algorithms"
      ],
      "metadata": {
        "id": "XQhZA9jbtsrX"
      }
    },
    {
      "cell_type": "markdown",
      "source": [
        "## Creating Distribution"
      ],
      "metadata": {
        "id": "OA_U0Y0Ixy34"
      }
    },
    {
      "cell_type": "markdown",
      "source": [
        "### Truncated Gamma Function"
      ],
      "metadata": {
        "id": "pGWkymwwurtN"
      }
    },
    {
      "cell_type": "markdown",
      "source": [
        "Creating a similar distribution for Testing using a Truncated Gamma Function with rounding. This function creates a weighted distribution between 0 to 8 with bias decreasing as we go away from 0.\n",
        "\n",
        "Parameters:\n",
        "1. Scale parameter(scale_param) must lie between 0-1. Lower the value of this, closer the values are to 0.\n",
        "2. The upper bound(upper_bound) specifies where the range should end."
      ],
      "metadata": {
        "id": "ZfSnzdvLv5N1"
      }
    },
    {
      "cell_type": "code",
      "source": [
        "def expo_w_rejection(upper_bound, scale_param = 0.1):\n",
        "    upper_bound += 1\n",
        "    while True:\n",
        "        candidate = rnd.expovariate(1.0 / (upper_bound * scale_param)) \n",
        "        if candidate < upper_bound:\n",
        "            return int(candidate)"
      ],
      "metadata": {
        "id": "RC-DKEawvJ2o"
      },
      "execution_count": null,
      "outputs": []
    },
    {
      "cell_type": "markdown",
      "source": [
        "### Visual Representation of the distribution"
      ],
      "metadata": {
        "id": "iCbNE5qUVIHY"
      }
    },
    {
      "cell_type": "markdown",
      "source": [
        "Importing Matplotlib for Plotting the Distribution"
      ],
      "metadata": {
        "id": "y3luOeWGVU-p"
      }
    },
    {
      "cell_type": "code",
      "source": [
        "from matplotlib import pyplot as plt"
      ],
      "metadata": {
        "id": "hsLw86WUSovc"
      },
      "execution_count": null,
      "outputs": []
    },
    {
      "cell_type": "markdown",
      "source": [
        "Creating a List of values obtained using the distribution function."
      ],
      "metadata": {
        "id": "BTnF1KErVbh7"
      }
    },
    {
      "cell_type": "code",
      "source": [
        "L = []\n",
        "for i in range(10000):\n",
        "  L.append(expo_w_rejection(8, scale_param = 0.25))\n",
        "L = np.array(L)"
      ],
      "metadata": {
        "id": "kGToke2mRHdb"
      },
      "execution_count": null,
      "outputs": []
    },
    {
      "cell_type": "markdown",
      "source": [
        "Plotting the list L as a histogram. A Scale parameter value of 0.25 has been chosen for representation purposes only."
      ],
      "metadata": {
        "id": "gmoHZJQ7Vp07"
      }
    },
    {
      "cell_type": "code",
      "source": [
        "# Creating histogram\n",
        "fig, ax = plt.subplots()\n",
        "ax.hist(L, bins = [0, 1, 2, 3, 4, 5, 6, 7, 8])\n",
        "plt.xlabel(\"Possible Matrix Entries\")\n",
        "plt.ylabel(\"Frequency\")\n",
        "plt.title(\"Possible Entries vs Frequency\")\n",
        "# Show plot\n",
        "plt.show()"
      ],
      "metadata": {
        "colab": {
          "base_uri": "https://localhost:8080/",
          "height": 295
        },
        "id": "bvltymJfSlet",
        "outputId": "a3cc4143-8955-4056-8fa3-721f39a55552"
      },
      "execution_count": null,
      "outputs": [
        {
          "output_type": "display_data",
          "data": {
            "text/plain": [
              "<Figure size 432x288 with 1 Axes>"
            ],
            "image/png": "[encoded data removed]"
          },
          "metadata": {
            "needs_background": "light"
          }
        }
      ]
    },
    {
      "cell_type": "markdown",
      "source": [
        "### Matrix Creation"
      ],
      "metadata": {
        "id": "Cb7pqBXZXyg3"
      }
    },
    {
      "cell_type": "markdown",
      "source": [
        "Creating a Matrix with values obtained from the gamma distribution. Each iteration will give a psudo random Test Matrix."
      ],
      "metadata": {
        "id": "DPJgRUiYwthw"
      }
    },
    {
      "cell_type": "code",
      "source": [
        "def matrix_maker():\n",
        "  L = []\n",
        "  for i in range(64):\n",
        "    L.append(expo_w_rejection(8, scale_param = 0.1))\n",
        "  mat = []\n",
        "  while L != []:\n",
        "    mat.append(L[:4])\n",
        "    L = L[4:]\n",
        "  A = np.array(mat)\n",
        "  return A "
      ],
      "metadata": {
        "id": "8sEKyoj4w1L7"
      },
      "execution_count": null,
      "outputs": []
    },
    {
      "cell_type": "markdown",
      "source": [
        "## Testing KILSIM 1"
      ],
      "metadata": {
        "id": "QmaZqMJrzL_d"
      }
    },
    {
      "cell_type": "markdown",
      "source": [
        "### Convergence Check Algorithm"
      ],
      "metadata": {
        "id": "td2OAHocyB08"
      }
    },
    {
      "cell_type": "markdown",
      "source": [
        "Creating a function to Check whether the Matrix Transformation Converges or runs Infintely.\n",
        "Flag 0 means the Matrix is Convergent and flag 1 means the Matrix is Non Convergent"
      ],
      "metadata": {
        "id": "CjKta6mcxUTg"
      }
    },
    {
      "cell_type": "code",
      "source": [
        "def conveg_check(A):\n",
        "  flag = 0\n",
        "  itr_ks = 0\n",
        "  while checkuniq(A) == 1:\n",
        "    A = kilsim(A)\n",
        "    itr_ks += 1\n",
        "    if itr_ks == 10:\n",
        "      flag += 1\n",
        "      return flag\n",
        "      break\n",
        "  if itr_ks < 10:\n",
        "    return flag"
      ],
      "metadata": {
        "id": "CiBmTyR6xt2A"
      },
      "execution_count": null,
      "outputs": []
    },
    {
      "cell_type": "markdown",
      "source": [
        "### Convergence Test on KILSIM 1"
      ],
      "metadata": {
        "id": "Gy95jgZBbnGX"
      }
    },
    {
      "cell_type": "markdown",
      "source": [
        "Here the convergence test is run for several Matrices and a ratio of convergent cases to total cases is obtained. The number of test cases taken is specified by variable n."
      ],
      "metadata": {
        "id": "Q30nYuNhy-0p"
      }
    },
    {
      "cell_type": "code",
      "source": [
        "n = 10000\n",
        "con_count = 0\n",
        "non_con_count = 0\n",
        "for i in range(n):\n",
        "  A = matrix_maker()\n",
        "  temp = conveg_check(A)\n",
        "  if temp == 1:\n",
        "    non_con_count += 1\n",
        "  else:\n",
        "    con_count += 1\n",
        "print(\"For KILSIM 1 \\nNo. of Convergent cases by total cases = \",con_count,\"/\",con_count+non_con_count)\n",
        "print(\"RESULT : \",con_count/n *100,\"% cases were Convergent\")"
      ],
      "metadata": {
        "colab": {
          "base_uri": "https://localhost:8080/"
        },
        "id": "w04pznqny_-W",
        "outputId": "45049c9d-f1d6-43e5-a2fa-cd70b93b912b"
      },
      "execution_count": null,
      "outputs": [
        {
          "output_type": "stream",
          "name": "stdout",
          "text": [
            "For KILSIM 1 \n",
            "No. of Convergent cases by total cases =  7660 / 10000\n",
            "RESULT :  76.6 % cases were Convergent\n"
          ]
        }
      ]
    },
    {
      "cell_type": "markdown",
      "source": [
        "## Testing KILSIM 2"
      ],
      "metadata": {
        "id": "Ca6bGWSougNy"
      }
    },
    {
      "cell_type": "markdown",
      "source": [
        "### Convergence Check Algorithm"
      ],
      "metadata": {
        "id": "DCyausNP0Nv1"
      }
    },
    {
      "cell_type": "markdown",
      "source": [
        "Creating a function to Check whether the Matrix Transformation with KILSIM 2 Algorithm Converges or runs Infintely.\n",
        "Flag 0 means the Matrix is Convergent and flag 1 means the Matrix is Non Convergent"
      ],
      "metadata": {
        "id": "JlLWsxFJ0S0o"
      }
    },
    {
      "cell_type": "code",
      "source": [
        "def conveg_check2(A):\n",
        "  flag = 0\n",
        "  itr_ks = 0\n",
        "  while checkuniq(A) == 1:\n",
        "    A = kilsim2(A)\n",
        "    itr_ks += 1\n",
        "    if itr_ks == 10:\n",
        "      flag += 1\n",
        "      return flag\n",
        "      break\n",
        "  if itr_ks < 10:\n",
        "    return flag"
      ],
      "metadata": {
        "id": "PicK57dmwkLA"
      },
      "execution_count": null,
      "outputs": []
    },
    {
      "cell_type": "markdown",
      "source": [
        "### Convergence test on KILSIM 2"
      ],
      "metadata": {
        "id": "9PLWSl3ub-Ak"
      }
    },
    {
      "cell_type": "markdown",
      "source": [
        "Again the convergence test is run for several Matrices and a ratio of convergent cases to total cases is obtained. The number of test cases taken is specified by variable n."
      ],
      "metadata": {
        "id": "MKJUdmmg1dqD"
      }
    },
    {
      "cell_type": "code",
      "source": [
        "n = 1000\n",
        "con_count = 0\n",
        "non_con_count = 0\n",
        "for i in range(n):\n",
        "  A = matrix_maker()\n",
        "  temp = conveg_check2(A)\n",
        "  if temp == 1:\n",
        "    non_con_count += 1\n",
        "  else:\n",
        "    con_count += 1\n",
        "print(\"For KILSIM 2 \\nNo. of Convergent cases by total cases = \",con_count,\"/\",con_count+non_con_count)\n",
        "print(\"RESULT : \",con_count/n *100,\"% cases were Convergent\")"
      ],
      "metadata": {
        "colab": {
          "base_uri": "https://localhost:8080/"
        },
        "id": "ASrO8SlN0BpT",
        "outputId": "7b65faee-74cb-4fc2-e5a9-c157880931dd"
      },
      "execution_count": null,
      "outputs": [
        {
          "output_type": "stream",
          "name": "stdout",
          "text": [
            "For KILSIM 2 \n",
            "No. of Convergent cases by total cases =  997 / 1000\n",
            "RESULT :  99.7 % cases were Convergent\n"
          ]
        }
      ]
    },
    {
      "cell_type": "code",
      "source": [
        ""
      ],
      "metadata": {
        "id": "WLWnwd9PYoU2"
      },
      "execution_count": null,
      "outputs": []
    }
  ]
}